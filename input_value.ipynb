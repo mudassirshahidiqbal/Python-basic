{
  "nbformat": 4,
  "nbformat_minor": 0,
  "metadata": {
    "colab": {
      "provenance": [],
      "authorship_tag": "ABX9TyOI+vVyi/jyxQFmf+SSF2nq",
      "include_colab_link": true
    },
    "kernelspec": {
      "name": "python3",
      "display_name": "Python 3"
    },
    "language_info": {
      "name": "python"
    }
  },
  "cells": [
    {
      "cell_type": "markdown",
      "metadata": {
        "id": "view-in-github",
        "colab_type": "text"
      },
      "source": [
        "<a href=\"https://colab.research.google.com/github/mudassirshahidiqbal/Python-basic/blob/main/input_value.ipynb\" target=\"_parent\"><img src=\"https://colab.research.google.com/assets/colab-badge.svg\" alt=\"Open In Colab\"/></a>"
      ]
    },
    {
      "cell_type": "markdown",
      "source": [
        "***Muhammad Mudasssir***"
      ],
      "metadata": {
        "id": "o1XgXC_rWUUe"
      }
    },
    {
      "cell_type": "markdown",
      "source": [
        "**Python Course**"
      ],
      "metadata": {
        "id": "1rjNB-8BXze8"
      }
    },
    {
      "cell_type": "markdown",
      "source": [
        "***intput keyword input()***"
      ],
      "metadata": {
        "id": "uRQCW5GMX_7V"
      }
    },
    {
      "cell_type": "code",
      "source": [
        "a=int(input(\"Enter the Value\"))\n",
        "b=a*5\n",
        "print(b)"
      ],
      "metadata": {
        "colab": {
          "base_uri": "https://localhost:8080/"
        },
        "id": "lTX3FNq7YLDp",
        "outputId": "ef9fb5f1-31b1-479a-f865-784270461eb4"
      },
      "execution_count": 2,
      "outputs": [
        {
          "output_type": "stream",
          "name": "stdout",
          "text": [
            "Enter the Value5\n",
            "25\n"
          ]
        }
      ]
    },
    {
      "cell_type": "markdown",
      "source": [
        "**Find percentage of obtain marks:**"
      ],
      "metadata": {
        "id": "J8AdY_olZVFI"
      }
    },
    {
      "cell_type": "code",
      "source": [
        "S1=int(input(\"Enter marks of subject 1:\"))\n",
        "S2=int(input(\"Enter marks of subject 2:\"))\n",
        "S3=int(input(\"Enter marks of subject 3:\"))\n",
        "S4=int(input(\"Enter marks of subject 4:\"))\n",
        "pc=(S1+S2+S3+S4)/400*100\n",
        "print(\"Total percentage \",pc,\"%\")"
      ],
      "metadata": {
        "colab": {
          "base_uri": "https://localhost:8080/"
        },
        "id": "ZCg7IPDthXsO",
        "outputId": "b843599a-8a80-464d-93d5-83c7098ae03e"
      },
      "execution_count": 2,
      "outputs": [
        {
          "output_type": "stream",
          "name": "stdout",
          "text": [
            "Enter marks of subject 1:80\n",
            "Enter marks of subject 2:80\n",
            "Enter marks of subject 3:80\n",
            "Enter marks of subject 4:80\n",
            "Total percentage  80.0 %\n"
          ]
        }
      ]
    },
    {
      "cell_type": "markdown",
      "source": [
        "**Find the radius of circle:**"
      ],
      "metadata": {
        "id": "dQ0ogl1YjbRk"
      }
    },
    {
      "cell_type": "code",
      "source": [
        "r=int(input(\"Enter the value of radius:\"))\n",
        "area=3.143*r**2\n",
        "print(\"area:\",area)"
      ],
      "metadata": {
        "colab": {
          "base_uri": "https://localhost:8080/"
        },
        "id": "ptZrAEo5kDaK",
        "outputId": "4d6f8b53-074a-4e0f-f777-120e4a1966d2"
      },
      "execution_count": 3,
      "outputs": [
        {
          "output_type": "stream",
          "name": "stdout",
          "text": [
            "Enter the value of radius:5\n",
            "area: 78.57499999999999\n"
          ]
        }
      ]
    }
  ]
}